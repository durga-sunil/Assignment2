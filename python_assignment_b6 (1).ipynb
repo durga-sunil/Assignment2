{
  "cells": [
    {
      "cell_type": "markdown",
      "id": "d2328cad",
      "metadata": {
        "id": "d2328cad"
      },
      "source": [
        "# Python Basics Assignment"
      ]
    },
    {
      "cell_type": "markdown",
      "id": "cb537954",
      "metadata": {
        "id": "cb537954"
      },
      "source": [
        "### Question 1\n",
        "Write a function to compute number of vowels in a string given as input"
      ]
    },
    {
      "cell_type": "code",
      "execution_count": 11,
      "id": "cf213ba2",
      "metadata": {
        "colab": {
          "base_uri": "https://localhost:8080/"
        },
        "id": "cf213ba2",
        "outputId": "4e28815a-90bf-40b6-8b70-b5ef19276266"
      },
      "outputs": [
        {
          "output_type": "stream",
          "name": "stdout",
          "text": [
            "Enter the string: Hello\n",
            "vowels 2\n"
          ]
        }
      ],
      "source": [
        "# Your code here\n",
        "def your_function_1():\n",
        "  x = input(\"Enter the string: \")\n",
        "  vowels = \"aeiouAEIOU\"\n",
        "  count = 0\n",
        "  for i in x:\n",
        "    if i in vowels:\n",
        "      count = count + 1\n",
        "  print(\"vowels\",count)\n",
        "your_function_1()"
      ]
    },
    {
      "cell_type": "markdown",
      "id": "4eaff430",
      "metadata": {
        "id": "4eaff430"
      },
      "source": [
        "### Question 2\n",
        "Write a function that checks whether a number is prime."
      ]
    },
    {
      "cell_type": "code",
      "execution_count": 27,
      "id": "81934cf7",
      "metadata": {
        "colab": {
          "base_uri": "https://localhost:8080/"
        },
        "id": "81934cf7",
        "outputId": "435d3b75-5570-4ea0-b05f-ba68c143e554"
      },
      "outputs": [
        {
          "output_type": "stream",
          "name": "stdout",
          "text": [
            "Enter the number: 4\n",
            "Not prime number\n"
          ]
        }
      ],
      "source": [
        "# Your code here\n",
        "def your_function_2():\n",
        "  x = int(input(\"Enter the number: \"))\n",
        "  for i in range(2,x):\n",
        "    if x%i == 0:\n",
        "      print(\"Not prime number\")\n",
        "      break\n",
        "    else:\n",
        "      print(\"Prime\")\n",
        "your_function_2()\n"
      ]
    },
    {
      "cell_type": "markdown",
      "id": "5f061e50",
      "metadata": {
        "id": "5f061e50"
      },
      "source": [
        "### Question 3\n",
        "Write a function to return the maximum of two numbers."
      ]
    },
    {
      "cell_type": "code",
      "execution_count": 28,
      "id": "44e2a596",
      "metadata": {
        "colab": {
          "base_uri": "https://localhost:8080/"
        },
        "id": "44e2a596",
        "outputId": "9eb1d6bb-4958-4f6f-a1d8-606bdac4e264"
      },
      "outputs": [
        {
          "output_type": "stream",
          "name": "stdout",
          "text": [
            "Enter the number: 2\n",
            "Enter next number: 3\n",
            "b is maximum\n"
          ]
        }
      ],
      "source": [
        "# Your code here\n",
        "def your_function_3():\n",
        "  a = int(input(\"Enter the number: \"))\n",
        "  b = int(input(\"Enter next number: \"))\n",
        "  if a > b:\n",
        "    print(\"a is maximum\")\n",
        "  else:\n",
        "    print(\"b is maximum\")\n",
        "your_function_3()"
      ]
    },
    {
      "cell_type": "markdown",
      "id": "7513ca91",
      "metadata": {
        "id": "7513ca91"
      },
      "source": [
        "### Question 4\n",
        "Write a function to return the factorial of a number."
      ]
    },
    {
      "cell_type": "code",
      "execution_count": 29,
      "id": "6617842f",
      "metadata": {
        "colab": {
          "base_uri": "https://localhost:8080/"
        },
        "id": "6617842f",
        "outputId": "28228c02-20c4-48c3-a004-a578c5d7478c"
      },
      "outputs": [
        {
          "output_type": "stream",
          "name": "stdout",
          "text": [
            "enter the number12\n",
            "479001600\n"
          ]
        }
      ],
      "source": [
        "# Your code here\n",
        "def your_function_4():\n",
        "  a = int(input(\"enter the number\"))\n",
        "  fact = 1\n",
        "  for i in range(1,a+1):\n",
        "    fact = fact*i\n",
        "  print(fact)\n",
        "your_function_4()"
      ]
    },
    {
      "cell_type": "markdown",
      "id": "9b942098",
      "metadata": {
        "id": "9b942098"
      },
      "source": [
        "### Question 5\n",
        "Write a function to reverse a string without string indexing."
      ]
    },
    {
      "cell_type": "code",
      "execution_count": 54,
      "id": "d606b194",
      "metadata": {
        "colab": {
          "base_uri": "https://localhost:8080/"
        },
        "id": "d606b194",
        "outputId": "954416af-d1bd-4bc3-fefe-ba4ace5e3e05"
      },
      "outputs": [
        {
          "output_type": "stream",
          "name": "stdout",
          "text": [
            "Enter the string: hello\n",
            "olleh"
          ]
        }
      ],
      "source": [
        "# Your code here\n",
        "def your_function_5():\n",
        "  a = input(\"Enter the string: \")\n",
        "  x = reversed(a)\n",
        "  for i in x:\n",
        "    print(i,end=\"\")\n",
        "your_function_5()"
      ]
    },
    {
      "cell_type": "markdown",
      "id": "1abd915b",
      "metadata": {
        "id": "1abd915b"
      },
      "source": [
        "### Question 6\n",
        "Write a function to check if a string is a palindrome."
      ]
    },
    {
      "cell_type": "code",
      "execution_count": 31,
      "id": "2b868fb3",
      "metadata": {
        "colab": {
          "base_uri": "https://localhost:8080/"
        },
        "id": "2b868fb3",
        "outputId": "077f9c25-7ab6-42cc-9618-73d71778da54"
      },
      "outputs": [
        {
          "output_type": "stream",
          "name": "stdout",
          "text": [
            "Enter the string: malayalam\n",
            "Palindrome\n"
          ]
        }
      ],
      "source": [
        "# Your code here\n",
        "def your_function_6():\n",
        "  a = input(\"Enter the string: \")\n",
        "  x = a[::-1]\n",
        "  if a == x:\n",
        "    print(\"Palindrome\")\n",
        "  else:\n",
        "    print('Not Palindrome')\n",
        "your_function_6()"
      ]
    },
    {
      "cell_type": "markdown",
      "id": "5f2f3791",
      "metadata": {
        "id": "5f2f3791"
      },
      "source": [
        "### Question 7\n",
        "Write a function to count vowels in a string."
      ]
    },
    {
      "cell_type": "code",
      "execution_count": 33,
      "id": "73fefa50",
      "metadata": {
        "colab": {
          "base_uri": "https://localhost:8080/"
        },
        "id": "73fefa50",
        "outputId": "f0cc4619-8877-4ea5-bc92-b98a4c0b4626"
      },
      "outputs": [
        {
          "output_type": "stream",
          "name": "stdout",
          "text": [
            "Enter the string: hello\n",
            "vowels 2\n"
          ]
        }
      ],
      "source": [
        "# Your code here\n",
        "def your_function_7():\n",
        "  x = input(\"Enter the string: \")\n",
        "  vowels = \"aeiouAEIOU\"\n",
        "  count = 0\n",
        "  for i in x:\n",
        "    if i in vowels:\n",
        "      count = count + 1\n",
        "  print(\"vowels\",count)\n",
        "your_function_7()"
      ]
    },
    {
      "cell_type": "markdown",
      "id": "0d3a9996",
      "metadata": {
        "id": "0d3a9996"
      },
      "source": [
        "### Question 8\n",
        "Write a function that returns the sum of a list."
      ]
    },
    {
      "cell_type": "code",
      "execution_count": 48,
      "id": "ab6afc66",
      "metadata": {
        "colab": {
          "base_uri": "https://localhost:8080/"
        },
        "id": "ab6afc66",
        "outputId": "c5b0ba35-7942-4bdd-f35e-2c81c6045b1b"
      },
      "outputs": [
        {
          "output_type": "stream",
          "name": "stdout",
          "text": [
            "28\n"
          ]
        }
      ],
      "source": [
        "# Your code here\n",
        "def your_function_8():\n",
        "  n = [1,2,3,4,5,6,7]\n",
        "  sum = 0\n",
        "  for i in n:\n",
        "    sum = sum + i\n",
        "  print(sum)\n",
        "your_function_8()"
      ]
    },
    {
      "cell_type": "markdown",
      "id": "f6682500",
      "metadata": {
        "id": "f6682500"
      },
      "source": [
        "### Question 9\n",
        "Write a function to find the smallest number in a list."
      ]
    },
    {
      "cell_type": "code",
      "execution_count": 49,
      "id": "6798a641",
      "metadata": {
        "colab": {
          "base_uri": "https://localhost:8080/"
        },
        "id": "6798a641",
        "outputId": "ab466d6d-d6c0-477f-d6c2-11aa77992644"
      },
      "outputs": [
        {
          "output_type": "stream",
          "name": "stdout",
          "text": [
            "Smallest number =  1\n"
          ]
        }
      ],
      "source": [
        "# Your code here\n",
        "def your_function_9():\n",
        "  x = [8,2,6,1]\n",
        "  x.sort()\n",
        "  print(\"Smallest number = \",x[0])\n",
        "your_function_9()"
      ]
    },
    {
      "cell_type": "markdown",
      "id": "fb11e683",
      "metadata": {
        "id": "fb11e683"
      },
      "source": [
        "### Question 10\n",
        "Write a function to remove duplicates from a list."
      ]
    },
    {
      "cell_type": "code",
      "execution_count": 68,
      "id": "7c53f88c",
      "metadata": {
        "colab": {
          "base_uri": "https://localhost:8080/"
        },
        "id": "7c53f88c",
        "outputId": "b2937b4c-820c-419d-b1b6-a9ae9f1aa9ed"
      },
      "outputs": [
        {
          "output_type": "stream",
          "name": "stdout",
          "text": [
            "[1, 2, 3, 4]\n"
          ]
        }
      ],
      "source": [
        "# Your code here\n",
        "def your_function_10():\n",
        "  a = [1,1,2,3,3,4]\n",
        "  x = []\n",
        "  for i in a:\n",
        "    if i not in x:\n",
        "      x.append(i)\n",
        "  print(x)\n",
        "your_function_10()\n"
      ]
    },
    {
      "cell_type": "markdown",
      "id": "9c380a5c",
      "metadata": {
        "id": "9c380a5c"
      },
      "source": [
        "### Question 11\n",
        "Write a function to sort a list in ascending order without using builtin sort function"
      ]
    },
    {
      "cell_type": "code",
      "execution_count": 63,
      "id": "8e43832f",
      "metadata": {
        "colab": {
          "base_uri": "https://localhost:8080/"
        },
        "id": "8e43832f",
        "outputId": "43263b4d-dfe2-4ec7-bda6-4807f555c4d9"
      },
      "outputs": [
        {
          "output_type": "stream",
          "name": "stdout",
          "text": [
            "[1, 2, 4, 5, 8]\n"
          ]
        }
      ],
      "source": [
        "# Your code here\n",
        "def your_function_11():\n",
        "  x = [5,2,8,1,4]\n",
        "  for i in range(len(x)):\n",
        "    for j in range(i+1,len(x)):\n",
        "      if x[i] > x[j]:\n",
        "        x[i],x[j] = x[j],x[i]\n",
        "  print(x)\n",
        "your_function_11()"
      ]
    },
    {
      "cell_type": "markdown",
      "id": "1270c91c",
      "metadata": {
        "id": "1270c91c"
      },
      "source": [
        "### Question 12\n",
        "Write a function that returns the length of a string."
      ]
    },
    {
      "cell_type": "code",
      "execution_count": 64,
      "id": "87f35472",
      "metadata": {
        "colab": {
          "base_uri": "https://localhost:8080/"
        },
        "id": "87f35472",
        "outputId": "4eb3f19e-05df-4a3b-9348-b706b9c27e2d"
      },
      "outputs": [
        {
          "output_type": "stream",
          "name": "stdout",
          "text": [
            "enter the string: hello\n",
            "5\n"
          ]
        }
      ],
      "source": [
        "# Your code here\n",
        "def your_function_12():\n",
        "  x = input(\"enter the string: \")\n",
        "  a = len(x)\n",
        "  print(a)\n",
        "your_function_12()"
      ]
    },
    {
      "cell_type": "markdown",
      "id": "9a8e3d28",
      "metadata": {
        "id": "9a8e3d28"
      },
      "source": [
        "### Question 13\n",
        "Write a function to count words in a sentence."
      ]
    },
    {
      "cell_type": "code",
      "execution_count": 75,
      "id": "e6f996ef",
      "metadata": {
        "colab": {
          "base_uri": "https://localhost:8080/"
        },
        "id": "e6f996ef",
        "outputId": "10771ad7-cae6-45cb-89b4-1090ed861905"
      },
      "outputs": [
        {
          "output_type": "stream",
          "name": "stdout",
          "text": [
            "Enter the string: hi hello\n",
            "2\n"
          ]
        }
      ],
      "source": [
        "# Your code here\n",
        "def your_function_13():\n",
        "  x = input(\"Enter the string: \")\n",
        "  a = len(x.split())\n",
        "  print(a)\n",
        "your_function_13()"
      ]
    },
    {
      "cell_type": "markdown",
      "id": "430c2e4a",
      "metadata": {
        "id": "430c2e4a"
      },
      "source": [
        "### Question 14\n",
        "Write a function to convert Celsius to Fahrenheit."
      ]
    },
    {
      "cell_type": "code",
      "execution_count": 78,
      "id": "b710b0bd",
      "metadata": {
        "colab": {
          "base_uri": "https://localhost:8080/"
        },
        "id": "b710b0bd",
        "outputId": "bd8f58bc-37a9-492f-d31e-213dddfd4449"
      },
      "outputs": [
        {
          "output_type": "stream",
          "name": "stdout",
          "text": [
            "Enter the temperature in celsius: 10\n",
            "50.0\n"
          ]
        }
      ],
      "source": [
        "# Your code here\n",
        "def your_function_14():\n",
        "  c = int(input(\"Enter the temperature in celsius: \"))\n",
        "  f = (c * 9/5) + 32\n",
        "  print(f)\n",
        "your_function_14()"
      ]
    },
    {
      "cell_type": "markdown",
      "id": "acefe5e3",
      "metadata": {
        "id": "acefe5e3"
      },
      "source": [
        "### Question 15\n",
        "Write a function to check if a number is palindrome."
      ]
    },
    {
      "cell_type": "code",
      "execution_count": 80,
      "id": "b700abae",
      "metadata": {
        "colab": {
          "base_uri": "https://localhost:8080/"
        },
        "id": "b700abae",
        "outputId": "9accb87e-9a2d-4a3d-b63f-ec804b4fc697"
      },
      "outputs": [
        {
          "output_type": "stream",
          "name": "stdout",
          "text": [
            "Enter the number: 121\n",
            "Palindrome\n"
          ]
        }
      ],
      "source": [
        "# Your code here\n",
        "def your_function_15():\n",
        "    a = input(\"Enter the number: \")\n",
        "    if a==a[::-1]:\n",
        "      print(\"Palindrome\")\n",
        "    else:\n",
        "      print('Not Palindrome')\n",
        "\n",
        "your_function_15()"
      ]
    },
    {
      "cell_type": "markdown",
      "id": "b63452cb",
      "metadata": {
        "id": "b63452cb"
      },
      "source": [
        "### Question 16\n",
        "Write a function to return all even numbers in a list."
      ]
    },
    {
      "cell_type": "code",
      "execution_count": 83,
      "id": "9d1fc968",
      "metadata": {
        "colab": {
          "base_uri": "https://localhost:8080/"
        },
        "id": "9d1fc968",
        "outputId": "f83b99a7-c121-4a4b-d1cb-ec5e5474924b"
      },
      "outputs": [
        {
          "output_type": "stream",
          "name": "stdout",
          "text": [
            "[2, 4, 6]\n"
          ]
        }
      ],
      "source": [
        "# Your code here\n",
        "def your_function_16():\n",
        "  x = [1,2,3,4,5,6]\n",
        "  a = []\n",
        "  for i in x:\n",
        "    if i%2 == 0:\n",
        "      a.append(i)\n",
        "  print(a)\n",
        "your_function_16()"
      ]
    },
    {
      "cell_type": "markdown",
      "id": "aca524d9",
      "metadata": {
        "id": "aca524d9"
      },
      "source": [
        "### Question 17\n",
        "Write a function to return the nth Fibonacci number."
      ]
    },
    {
      "cell_type": "code",
      "execution_count": 103,
      "id": "97dc4e87",
      "metadata": {
        "colab": {
          "base_uri": "https://localhost:8080/"
        },
        "id": "97dc4e87",
        "outputId": "32d58e59-7d87-447b-a5ff-3c351c2255f1"
      },
      "outputs": [
        {
          "name": "stdout",
          "output_type": "stream",
          "text": [
            "Enter the value of n: 7\n"
          ]
        },
        {
          "output_type": "execute_result",
          "data": {
            "text/plain": [
              "13"
            ]
          },
          "metadata": {},
          "execution_count": 103
        }
      ],
      "source": [
        "# Your code here\n",
        "def your_function_17():\n",
        "    n = int(input(\"Enter the value of n: \"))\n",
        "    a = 0\n",
        "    b = 1\n",
        "    for i in range(n):\n",
        "        a , b = b , a + b\n",
        "    return a\n",
        "\n",
        "\n",
        "your_function_17()\n"
      ]
    },
    {
      "cell_type": "markdown",
      "id": "29c847dc",
      "metadata": {
        "id": "29c847dc"
      },
      "source": [
        "### Question 18\n",
        "Write a function to calculate the average of a list."
      ]
    },
    {
      "cell_type": "code",
      "execution_count": 88,
      "id": "9adc9fd2",
      "metadata": {
        "colab": {
          "base_uri": "https://localhost:8080/"
        },
        "id": "9adc9fd2",
        "outputId": "8e63d0ba-8182-410b-f2ba-0ad925bfb956"
      },
      "outputs": [
        {
          "output_type": "stream",
          "name": "stdout",
          "text": [
            "3.5\n"
          ]
        }
      ],
      "source": [
        "# Your code here\n",
        "def your_function_18():\n",
        "  x = [1,2,3,4,5,6]\n",
        "  sum = 0\n",
        "  for i in x:\n",
        "    sum = sum + i\n",
        "  avg = (sum/len(x))\n",
        "  print(avg)\n",
        "your_function_18()\n"
      ]
    },
    {
      "cell_type": "markdown",
      "id": "420240fb",
      "metadata": {
        "id": "420240fb"
      },
      "source": [
        "### Question 19\n",
        "Write a function that returns a dictionary of character counts."
      ]
    },
    {
      "cell_type": "code",
      "execution_count": null,
      "id": "95cafc54",
      "metadata": {
        "id": "95cafc54"
      },
      "outputs": [],
      "source": [
        "# Your code here\n",
        "def your_function_19():\n",
        "    pass"
      ]
    },
    {
      "cell_type": "markdown",
      "id": "17629a07",
      "metadata": {
        "id": "17629a07"
      },
      "source": [
        "### Question 20\n",
        "Write a function that returns True if all list elements are unique."
      ]
    },
    {
      "cell_type": "code",
      "execution_count": 105,
      "id": "fe4f8820",
      "metadata": {
        "colab": {
          "base_uri": "https://localhost:8080/"
        },
        "id": "fe4f8820",
        "outputId": "e5495be5-a362-4dcc-e4d2-8e8cb65a4b0a"
      },
      "outputs": [
        {
          "output_type": "stream",
          "name": "stdout",
          "text": [
            "False\n"
          ]
        }
      ],
      "source": [
        "# Your code here\n",
        "def your_function_20():\n",
        "  a = [1,2,2,4,5,6]\n",
        "  if(len(a)==len(set(a))):\n",
        "    print(\"True\")\n",
        "  else:\n",
        "    print('False')\n",
        "your_function_20()"
      ]
    },
    {
      "cell_type": "markdown",
      "id": "91dc87b9",
      "metadata": {
        "id": "91dc87b9"
      },
      "source": [
        "### Question 21\n",
        "Write a function that returns dot product of two list of numbers"
      ]
    },
    {
      "cell_type": "code",
      "execution_count": 107,
      "id": "87c3fa4b",
      "metadata": {
        "colab": {
          "base_uri": "https://localhost:8080/"
        },
        "id": "87c3fa4b",
        "outputId": "ff6d241e-327a-46fd-d1e1-5d7ff16b3d97"
      },
      "outputs": [
        {
          "output_type": "stream",
          "name": "stdout",
          "text": [
            "7\n"
          ]
        }
      ],
      "source": [
        "# Your code here\n",
        "def your_function_21():\n",
        "    a = [1,2]\n",
        "    b = [3,2]\n",
        "    dot_prdct = (a[0]*b[0] + a[1]*b[1])\n",
        "    print(dot_prdct)\n",
        "your_function_21()"
      ]
    },
    {
      "cell_type": "markdown",
      "id": "5eeb0527",
      "metadata": {
        "id": "5eeb0527"
      },
      "source": [
        "### Question 22\n",
        "Write a function that returns the projection of vector a onto vector b. Both a and b are given as list of numbers"
      ]
    },
    {
      "cell_type": "code",
      "execution_count": 108,
      "id": "d2c2439f",
      "metadata": {
        "colab": {
          "base_uri": "https://localhost:8080/"
        },
        "id": "d2c2439f",
        "outputId": "18cc8d63-1e52-40d8-a037-c78634997b69"
      },
      "outputs": [
        {
          "output_type": "stream",
          "name": "stdout",
          "text": [
            "1.9414506867883021\n"
          ]
        }
      ],
      "source": [
        "# Your code here\n",
        "def your_function_22():\n",
        "    a = [1,2]\n",
        "    b = [3,2]\n",
        "    dot_prdct = (a[0]*b[0] + a[1]*b[1])\n",
        "    magnitude_b = ((b[0]**2 + b[1]**2)**0.5)\n",
        "    projection = (dot_prdct/magnitude_b)\n",
        "    print(projection)\n",
        "your_function_22()"
      ]
    },
    {
      "cell_type": "markdown",
      "id": "1410b385",
      "metadata": {
        "id": "1410b385"
      },
      "source": [
        "### Question 23\n",
        "Write a function to return common elements between two lists."
      ]
    },
    {
      "cell_type": "code",
      "execution_count": 110,
      "id": "2cee584c",
      "metadata": {
        "colab": {
          "base_uri": "https://localhost:8080/"
        },
        "id": "2cee584c",
        "outputId": "7e43c098-7742-43da-b44b-bd7fe113985f"
      },
      "outputs": [
        {
          "output_type": "stream",
          "name": "stdout",
          "text": [
            "[1, 2]\n"
          ]
        }
      ],
      "source": [
        "# Your code here\n",
        "def your_function_23():\n",
        "  a = [1,2,3,4]\n",
        "  b = [2,9,8,1]\n",
        "  c = []\n",
        "  for i in a:\n",
        "    if i in b:\n",
        "      if i not in c:\n",
        "        c.append(i)\n",
        "  print(c)\n",
        "your_function_23()"
      ]
    },
    {
      "cell_type": "markdown",
      "id": "23ab5210",
      "metadata": {
        "id": "23ab5210"
      },
      "source": [
        "### Question 24\n",
        "Create a class Vector that supports addition, dot product, and magnitude."
      ]
    },
    {
      "cell_type": "code",
      "execution_count": 125,
      "id": "f6b18fd7",
      "metadata": {
        "colab": {
          "base_uri": "https://localhost:8080/",
          "height": 211
        },
        "id": "f6b18fd7",
        "outputId": "c234acdb-b319-4e43-a3e0-e9748c054382"
      },
      "outputs": [
        {
          "output_type": "error",
          "ename": "NameError",
          "evalue": "name 'Vector' is not defined",
          "traceback": [
            "\u001b[0;31m---------------------------------------------------------------------------\u001b[0m",
            "\u001b[0;31mNameError\u001b[0m                                 Traceback (most recent call last)",
            "\u001b[0;32m/tmp/ipython-input-125-3811855602.py\u001b[0m in \u001b[0;36m<cell line: 0>\u001b[0;34m()\u001b[0m\n\u001b[1;32m      9\u001b[0m     \u001b[0;32mdef\u001b[0m \u001b[0mdot_prdct\u001b[0m\u001b[0;34m(\u001b[0m\u001b[0mself\u001b[0m\u001b[0;34m,\u001b[0m\u001b[0mx\u001b[0m\u001b[0;34m)\u001b[0m\u001b[0;34m:\u001b[0m\u001b[0;34m\u001b[0m\u001b[0;34m\u001b[0m\u001b[0m\n\u001b[1;32m     10\u001b[0m       \u001b[0mprint\u001b[0m\u001b[0;34m(\u001b[0m\u001b[0mself\u001b[0m\u001b[0;34m.\u001b[0m\u001b[0ma\u001b[0m \u001b[0;34m*\u001b[0m \u001b[0mx\u001b[0m\u001b[0;34m.\u001b[0m\u001b[0ma\u001b[0m \u001b[0;34m+\u001b[0m \u001b[0mself\u001b[0m\u001b[0;34m.\u001b[0m\u001b[0mb\u001b[0m \u001b[0;34m*\u001b[0m \u001b[0mx\u001b[0m\u001b[0;34m.\u001b[0m\u001b[0mb\u001b[0m\u001b[0;34m)\u001b[0m\u001b[0;34m\u001b[0m\u001b[0;34m\u001b[0m\u001b[0m\n\u001b[0;32m---> 11\u001b[0;31m \u001b[0ma\u001b[0m \u001b[0;34m=\u001b[0m \u001b[0mVector\u001b[0m\u001b[0;34m(\u001b[0m\u001b[0;36m1\u001b[0m\u001b[0;34m,\u001b[0m\u001b[0;36m2\u001b[0m\u001b[0;34m)\u001b[0m\u001b[0;34m\u001b[0m\u001b[0;34m\u001b[0m\u001b[0m\n\u001b[0m\u001b[1;32m     12\u001b[0m \u001b[0ma\u001b[0m\u001b[0;34m.\u001b[0m\u001b[0maddition\u001b[0m\u001b[0;34m(\u001b[0m\u001b[0;34m)\u001b[0m\u001b[0;34m\u001b[0m\u001b[0;34m\u001b[0m\u001b[0m\n\u001b[1;32m     13\u001b[0m \u001b[0myour_function_24\u001b[0m\u001b[0;34m(\u001b[0m\u001b[0;34m)\u001b[0m\u001b[0;34m\u001b[0m\u001b[0;34m\u001b[0m\u001b[0m\n",
            "\u001b[0;31mNameError\u001b[0m: name 'Vector' is not defined"
          ]
        }
      ],
      "source": [
        "# Your code here\n",
        "def your_function_24():\n",
        "  class Vector:\n",
        "    def __init__(self,a,b):\n",
        "      self.a = a\n",
        "      self.b = b\n",
        "    def addition(self,x):\n",
        "      print(self.a + x.a ,self.b + x.b)\n",
        "    def dot_prdct(self,x):\n",
        "      print(self.a * x.a + self.b * x.b)\n",
        "your_function_24()\n",
        "\n"
      ]
    },
    {
      "cell_type": "markdown",
      "id": "a0621aba",
      "metadata": {
        "id": "a0621aba"
      },
      "source": [
        "### Question 25\n",
        "Implement a function to return all outliers in a list based on the IQR method."
      ]
    },
    {
      "cell_type": "code",
      "execution_count": 121,
      "id": "460a8994",
      "metadata": {
        "colab": {
          "base_uri": "https://localhost:8080/"
        },
        "id": "460a8994",
        "outputId": "53583d48-af17-437e-e2f3-16585fb2a068"
      },
      "outputs": [
        {
          "output_type": "stream",
          "name": "stdout",
          "text": [
            "Lower_bound = 2.0\n",
            "Upper_bound = 30.0\n",
            "outliers\n",
            "[1]\n"
          ]
        }
      ],
      "source": [
        "# Your code here\n",
        "def your_function_25():\n",
        "  n = [1,2,3,4,5,6,7]\n",
        "  q1 = (25/100) *(len(n) + 1)\n",
        "  q3 = (75/100) *(len(n) + 1)\n",
        "  iqr = (q3 - q1)\n",
        "  lb = (q1 - 1.5) * (iqr)\n",
        "  ub = (q3 + 1.5) * (iqr)\n",
        "  print(\"Lower_bound =\",lb)\n",
        "  print(\"Upper_bound =\",ub)\n",
        "  x = []\n",
        "  for i in n:\n",
        "    if i<lb  or i>ub:\n",
        "      x.append(i)\n",
        "      print(\"outliers\")\n",
        "      print(x)\n",
        "      break\n",
        "  else:\n",
        "    print(\"none\")\n",
        "your_function_25()\n"
      ]
    },
    {
      "cell_type": "markdown",
      "id": "f0be510e",
      "metadata": {
        "id": "f0be510e"
      },
      "source": [
        "### Question 26\n",
        "Function with default arguments:\n",
        "Create a function to compute variance with an option to use sample or population formula"
      ]
    },
    {
      "cell_type": "code",
      "execution_count": null,
      "id": "941d732d",
      "metadata": {
        "id": "941d732d"
      },
      "outputs": [],
      "source": [
        "# Your code here\n",
        "def your_function_26():\n",
        ""
      ]
    },
    {
      "cell_type": "markdown",
      "id": "c39be0f1",
      "metadata": {
        "id": "c39be0f1"
      },
      "source": [
        "### Question 27\n",
        "Create a list of squares of even numbers between 1 and 20 using list comprehension."
      ]
    },
    {
      "cell_type": "code",
      "execution_count": 122,
      "id": "9e4ba74a",
      "metadata": {
        "colab": {
          "base_uri": "https://localhost:8080/"
        },
        "id": "9e4ba74a",
        "outputId": "b2c1db0e-3451-42d0-cd16-f216d431a399"
      },
      "outputs": [
        {
          "output_type": "stream",
          "name": "stdout",
          "text": [
            "[4, 16, 36, 64, 100, 144, 196, 256, 324, 400]\n"
          ]
        }
      ],
      "source": [
        "# Your code here\n",
        "def your_function_27():\n",
        "  squares = [x**2 for x in range(1, 21) if x % 2 == 0]\n",
        "  print(squares)\n",
        "your_function_27()\n"
      ]
    },
    {
      "cell_type": "markdown",
      "id": "b43c266d",
      "metadata": {
        "id": "b43c266d"
      },
      "source": [
        "### Question 28\n",
        "Write a function that returns the L1 and L2 norms of a vector given as list"
      ]
    },
    {
      "cell_type": "code",
      "execution_count": null,
      "id": "4f5dc876",
      "metadata": {
        "id": "4f5dc876"
      },
      "outputs": [],
      "source": [
        "# Your code here\n",
        "def your_function_28():\n",
        "    pass"
      ]
    },
    {
      "cell_type": "markdown",
      "id": "2007915f",
      "metadata": {
        "id": "2007915f"
      },
      "source": [
        "### Question 29\n",
        "Write a function that computes the 95% confidence interval for the mean of a list of numbers assuming normal distribution."
      ]
    },
    {
      "cell_type": "code",
      "execution_count": null,
      "id": "8634dc63",
      "metadata": {
        "id": "8634dc63"
      },
      "outputs": [],
      "source": [
        "# Your code here\n",
        "def your_function_29():\n",
        "    pass"
      ]
    },
    {
      "cell_type": "markdown",
      "id": "08df3afb",
      "metadata": {
        "id": "08df3afb"
      },
      "source": [
        "### Question 30\n",
        "Given a list of categorical values, create a frequency distribution dictionary."
      ]
    },
    {
      "cell_type": "code",
      "execution_count": null,
      "id": "c9b88531",
      "metadata": {
        "id": "c9b88531"
      },
      "outputs": [],
      "source": [
        "# Your code here\n",
        "def your_function_30():\n",
        "    pass"
      ]
    }
  ],
  "metadata": {
    "language_info": {
      "name": "python"
    },
    "colab": {
      "provenance": []
    },
    "kernelspec": {
      "name": "python3",
      "display_name": "Python 3"
    }
  },
  "nbformat": 4,
  "nbformat_minor": 5
}